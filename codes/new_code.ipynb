{
 "cells": [
  {
   "cell_type": "code",
   "execution_count": 1,
   "metadata": {},
   "outputs": [],
   "source": [
    "import pandas as pd"
   ]
  },
  {
   "cell_type": "code",
   "execution_count": 2,
   "metadata": {},
   "outputs": [
    {
     "name": "stderr",
     "output_type": "stream",
     "text": [
      "C:\\Users\\ADE17\\AppData\\Local\\Temp\\ipykernel_13652\\4278802600.py:1: DtypeWarning: Columns (14) have mixed types. Specify dtype option on import or set low_memory=False.\n",
      "  train_df = pd.read_csv('../data_new/train.csv')\n"
     ]
    }
   ],
   "source": [
    "train_df = pd.read_csv('../data_new/train.csv')"
   ]
  },
  {
   "cell_type": "code",
   "execution_count": 4,
   "metadata": {},
   "outputs": [
    {
     "data": {
      "text/html": [
       "<div>\n",
       "<style scoped>\n",
       "    .dataframe tbody tr th:only-of-type {\n",
       "        vertical-align: middle;\n",
       "    }\n",
       "\n",
       "    .dataframe tbody tr th {\n",
       "        vertical-align: top;\n",
       "    }\n",
       "\n",
       "    .dataframe thead th {\n",
       "        text-align: right;\n",
       "    }\n",
       "</style>\n",
       "<table border=\"1\" class=\"dataframe\">\n",
       "  <thead>\n",
       "    <tr style=\"text-align: right;\">\n",
       "      <th></th>\n",
       "      <th>Patient_ID</th>\n",
       "      <th>Chip_Code</th>\n",
       "      <th>Chip_Type</th>\n",
       "      <th>Chip_Image_Name</th>\n",
       "      <th>Age</th>\n",
       "      <th>Gender</th>\n",
       "      <th>Blood_Month_sample</th>\n",
       "      <th>French_Residence_Department</th>\n",
       "      <th>French_Region</th>\n",
       "      <th>Rural_or_urban_area</th>\n",
       "      <th>...</th>\n",
       "      <th>Type_of_Food_Allergy_Fruits_and_Vegetables</th>\n",
       "      <th>Type_of_Food_Allergy_Mammalian_Milk</th>\n",
       "      <th>Type_of_Food_Allergy_Oral_Syndrom</th>\n",
       "      <th>Type_of_Food_Allergy_Other_Legumes</th>\n",
       "      <th>Type_of_Food_Allergy_Peanut</th>\n",
       "      <th>Type_of_Food_Allergy_Shellfish</th>\n",
       "      <th>Type_of_Food_Allergy_TPO</th>\n",
       "      <th>Type_of_Food_Allergy_Tree_Nuts</th>\n",
       "      <th>Type_of_Venom_Allergy_ATCD_Venom</th>\n",
       "      <th>Type_of_Venom_Allergy_IGE_Venom</th>\n",
       "    </tr>\n",
       "  </thead>\n",
       "  <tbody>\n",
       "    <tr>\n",
       "      <th>0</th>\n",
       "      <td>PCR0232</td>\n",
       "      <td>02AHX0C9</td>\n",
       "      <td>ALEX</td>\n",
       "      <td>02AHX0C9.bmp</td>\n",
       "      <td>15.0</td>\n",
       "      <td>0.0</td>\n",
       "      <td>7.0</td>\n",
       "      <td>deptGGG</td>\n",
       "      <td>regionF</td>\n",
       "      <td>1</td>\n",
       "      <td>...</td>\n",
       "      <td>0</td>\n",
       "      <td>0</td>\n",
       "      <td>0</td>\n",
       "      <td>0</td>\n",
       "      <td>0</td>\n",
       "      <td>0</td>\n",
       "      <td>0</td>\n",
       "      <td>0</td>\n",
       "      <td>0</td>\n",
       "      <td>0</td>\n",
       "    </tr>\n",
       "    <tr>\n",
       "      <th>1</th>\n",
       "      <td>QVW0271</td>\n",
       "      <td>AD53727_2</td>\n",
       "      <td>ISAC_V1</td>\n",
       "      <td>NaN</td>\n",
       "      <td>72.0</td>\n",
       "      <td>1.0</td>\n",
       "      <td>5.0</td>\n",
       "      <td>deptY</td>\n",
       "      <td>regionD</td>\n",
       "      <td>9</td>\n",
       "      <td>...</td>\n",
       "      <td>9</td>\n",
       "      <td>9</td>\n",
       "      <td>9</td>\n",
       "      <td>9</td>\n",
       "      <td>9</td>\n",
       "      <td>9</td>\n",
       "      <td>9</td>\n",
       "      <td>9</td>\n",
       "      <td>0</td>\n",
       "      <td>0</td>\n",
       "    </tr>\n",
       "  </tbody>\n",
       "</table>\n",
       "<p>2 rows × 365 columns</p>\n",
       "</div>"
      ],
      "text/plain": [
       "  Patient_ID  Chip_Code Chip_Type Chip_Image_Name   Age  Gender  \\\n",
       "0    PCR0232   02AHX0C9      ALEX    02AHX0C9.bmp  15.0     0.0   \n",
       "1    QVW0271  AD53727_2   ISAC_V1             NaN  72.0     1.0   \n",
       "\n",
       "   Blood_Month_sample French_Residence_Department French_Region  \\\n",
       "0                 7.0                     deptGGG       regionF   \n",
       "1                 5.0                       deptY       regionD   \n",
       "\n",
       "   Rural_or_urban_area  ...  Type_of_Food_Allergy_Fruits_and_Vegetables  \\\n",
       "0                    1  ...                                           0   \n",
       "1                    9  ...                                           9   \n",
       "\n",
       "  Type_of_Food_Allergy_Mammalian_Milk  Type_of_Food_Allergy_Oral_Syndrom  \\\n",
       "0                                   0                                  0   \n",
       "1                                   9                                  9   \n",
       "\n",
       "  Type_of_Food_Allergy_Other_Legumes Type_of_Food_Allergy_Peanut  \\\n",
       "0                                  0                           0   \n",
       "1                                  9                           9   \n",
       "\n",
       "   Type_of_Food_Allergy_Shellfish Type_of_Food_Allergy_TPO  \\\n",
       "0                               0                        0   \n",
       "1                               9                        9   \n",
       "\n",
       "  Type_of_Food_Allergy_Tree_Nuts  Type_of_Venom_Allergy_ATCD_Venom  \\\n",
       "0                              0                                 0   \n",
       "1                              9                                 0   \n",
       "\n",
       "   Type_of_Venom_Allergy_IGE_Venom  \n",
       "0                                0  \n",
       "1                                0  \n",
       "\n",
       "[2 rows x 365 columns]"
      ]
     },
     "execution_count": 4,
     "metadata": {},
     "output_type": "execute_result"
    }
   ],
   "source": [
    "train_df.head(2)"
   ]
  },
  {
   "cell_type": "code",
   "execution_count": 12,
   "metadata": {},
   "outputs": [],
   "source": [
    "target_cols = train_df.iloc[:,-29:]"
   ]
  },
  {
   "cell_type": "code",
   "execution_count": 15,
   "metadata": {},
   "outputs": [
    {
     "data": {
      "text/html": [
       "<div>\n",
       "<style scoped>\n",
       "    .dataframe tbody tr th:only-of-type {\n",
       "        vertical-align: middle;\n",
       "    }\n",
       "\n",
       "    .dataframe tbody tr th {\n",
       "        vertical-align: top;\n",
       "    }\n",
       "\n",
       "    .dataframe thead th {\n",
       "        text-align: right;\n",
       "    }\n",
       "</style>\n",
       "<table border=\"1\" class=\"dataframe\">\n",
       "  <thead>\n",
       "    <tr style=\"text-align: right;\">\n",
       "      <th></th>\n",
       "      <th>Allergy_Present</th>\n",
       "      <th>Severe_Allergy</th>\n",
       "      <th>Respiratory_Allergy</th>\n",
       "      <th>Food_Allergy</th>\n",
       "      <th>Venom_Allergy</th>\n",
       "      <th>Type_of_Respiratory_Allergy_ARIA</th>\n",
       "      <th>Type_of_Respiratory_Allergy_CONJ</th>\n",
       "      <th>Type_of_Respiratory_Allergy_GINA</th>\n",
       "      <th>Type_of_Respiratory_Allergy_IGE_Pollen_Gram</th>\n",
       "      <th>Type_of_Respiratory_Allergy_IGE_Pollen_Herb</th>\n",
       "      <th>...</th>\n",
       "      <th>Type_of_Food_Allergy_Fruits_and_Vegetables</th>\n",
       "      <th>Type_of_Food_Allergy_Mammalian_Milk</th>\n",
       "      <th>Type_of_Food_Allergy_Oral_Syndrom</th>\n",
       "      <th>Type_of_Food_Allergy_Other_Legumes</th>\n",
       "      <th>Type_of_Food_Allergy_Peanut</th>\n",
       "      <th>Type_of_Food_Allergy_Shellfish</th>\n",
       "      <th>Type_of_Food_Allergy_TPO</th>\n",
       "      <th>Type_of_Food_Allergy_Tree_Nuts</th>\n",
       "      <th>Type_of_Venom_Allergy_ATCD_Venom</th>\n",
       "      <th>Type_of_Venom_Allergy_IGE_Venom</th>\n",
       "    </tr>\n",
       "  </thead>\n",
       "  <tbody>\n",
       "    <tr>\n",
       "      <th>0</th>\n",
       "      <td>1</td>\n",
       "      <td>1</td>\n",
       "      <td>1</td>\n",
       "      <td>0</td>\n",
       "      <td>0</td>\n",
       "      <td>1</td>\n",
       "      <td>1</td>\n",
       "      <td>0</td>\n",
       "      <td>1</td>\n",
       "      <td>0</td>\n",
       "      <td>...</td>\n",
       "      <td>0</td>\n",
       "      <td>0</td>\n",
       "      <td>0</td>\n",
       "      <td>0</td>\n",
       "      <td>0</td>\n",
       "      <td>0</td>\n",
       "      <td>0</td>\n",
       "      <td>0</td>\n",
       "      <td>0</td>\n",
       "      <td>0</td>\n",
       "    </tr>\n",
       "    <tr>\n",
       "      <th>1</th>\n",
       "      <td>9</td>\n",
       "      <td>9</td>\n",
       "      <td>9</td>\n",
       "      <td>9</td>\n",
       "      <td>0</td>\n",
       "      <td>9</td>\n",
       "      <td>9</td>\n",
       "      <td>9</td>\n",
       "      <td>9</td>\n",
       "      <td>9</td>\n",
       "      <td>...</td>\n",
       "      <td>9</td>\n",
       "      <td>9</td>\n",
       "      <td>9</td>\n",
       "      <td>9</td>\n",
       "      <td>9</td>\n",
       "      <td>9</td>\n",
       "      <td>9</td>\n",
       "      <td>9</td>\n",
       "      <td>0</td>\n",
       "      <td>0</td>\n",
       "    </tr>\n",
       "  </tbody>\n",
       "</table>\n",
       "<p>2 rows × 29 columns</p>\n",
       "</div>"
      ],
      "text/plain": [
       "   Allergy_Present  Severe_Allergy  Respiratory_Allergy  Food_Allergy  \\\n",
       "0                1               1                    1             0   \n",
       "1                9               9                    9             9   \n",
       "\n",
       "   Venom_Allergy  Type_of_Respiratory_Allergy_ARIA  \\\n",
       "0              0                                 1   \n",
       "1              0                                 9   \n",
       "\n",
       "   Type_of_Respiratory_Allergy_CONJ  Type_of_Respiratory_Allergy_GINA  \\\n",
       "0                                 1                                 0   \n",
       "1                                 9                                 9   \n",
       "\n",
       "   Type_of_Respiratory_Allergy_IGE_Pollen_Gram  \\\n",
       "0                                            1   \n",
       "1                                            9   \n",
       "\n",
       "   Type_of_Respiratory_Allergy_IGE_Pollen_Herb  ...  \\\n",
       "0                                            0  ...   \n",
       "1                                            9  ...   \n",
       "\n",
       "   Type_of_Food_Allergy_Fruits_and_Vegetables  \\\n",
       "0                                           0   \n",
       "1                                           9   \n",
       "\n",
       "   Type_of_Food_Allergy_Mammalian_Milk  Type_of_Food_Allergy_Oral_Syndrom  \\\n",
       "0                                    0                                  0   \n",
       "1                                    9                                  9   \n",
       "\n",
       "   Type_of_Food_Allergy_Other_Legumes  Type_of_Food_Allergy_Peanut  \\\n",
       "0                                   0                            0   \n",
       "1                                   9                            9   \n",
       "\n",
       "   Type_of_Food_Allergy_Shellfish  Type_of_Food_Allergy_TPO  \\\n",
       "0                               0                         0   \n",
       "1                               9                         9   \n",
       "\n",
       "   Type_of_Food_Allergy_Tree_Nuts  Type_of_Venom_Allergy_ATCD_Venom  \\\n",
       "0                               0                                 0   \n",
       "1                               9                                 0   \n",
       "\n",
       "   Type_of_Venom_Allergy_IGE_Venom  \n",
       "0                                0  \n",
       "1                                0  \n",
       "\n",
       "[2 rows x 29 columns]"
      ]
     },
     "execution_count": 15,
     "metadata": {},
     "output_type": "execute_result"
    }
   ],
   "source": [
    "target_cols.head(2)"
   ]
  },
  {
   "cell_type": "code",
   "execution_count": null,
   "metadata": {},
   "outputs": [],
   "source": []
  },
  {
   "cell_type": "code",
   "execution_count": null,
   "metadata": {},
   "outputs": [],
   "source": []
  },
  {
   "cell_type": "code",
   "execution_count": null,
   "metadata": {},
   "outputs": [],
   "source": []
  },
  {
   "cell_type": "code",
   "execution_count": null,
   "metadata": {},
   "outputs": [],
   "source": []
  },
  {
   "cell_type": "code",
   "execution_count": null,
   "metadata": {},
   "outputs": [],
   "source": []
  },
  {
   "cell_type": "code",
   "execution_count": null,
   "metadata": {},
   "outputs": [],
   "source": []
  },
  {
   "cell_type": "code",
   "execution_count": null,
   "metadata": {},
   "outputs": [],
   "source": []
  },
  {
   "cell_type": "code",
   "execution_count": null,
   "metadata": {},
   "outputs": [],
   "source": []
  },
  {
   "cell_type": "code",
   "execution_count": null,
   "metadata": {},
   "outputs": [],
   "source": []
  },
  {
   "cell_type": "code",
   "execution_count": null,
   "metadata": {},
   "outputs": [],
   "source": []
  },
  {
   "cell_type": "code",
   "execution_count": null,
   "metadata": {},
   "outputs": [],
   "source": []
  },
  {
   "cell_type": "code",
   "execution_count": null,
   "metadata": {},
   "outputs": [],
   "source": []
  },
  {
   "cell_type": "code",
   "execution_count": null,
   "metadata": {},
   "outputs": [],
   "source": []
  },
  {
   "cell_type": "code",
   "execution_count": null,
   "metadata": {},
   "outputs": [],
   "source": []
  },
  {
   "cell_type": "code",
   "execution_count": null,
   "metadata": {},
   "outputs": [],
   "source": []
  },
  {
   "cell_type": "code",
   "execution_count": null,
   "metadata": {},
   "outputs": [],
   "source": []
  },
  {
   "cell_type": "code",
   "execution_count": null,
   "metadata": {},
   "outputs": [],
   "source": []
  },
  {
   "cell_type": "code",
   "execution_count": null,
   "metadata": {},
   "outputs": [],
   "source": []
  },
  {
   "cell_type": "code",
   "execution_count": null,
   "metadata": {},
   "outputs": [],
   "source": []
  },
  {
   "cell_type": "code",
   "execution_count": null,
   "metadata": {},
   "outputs": [],
   "source": []
  },
  {
   "cell_type": "code",
   "execution_count": null,
   "metadata": {},
   "outputs": [],
   "source": []
  },
  {
   "cell_type": "code",
   "execution_count": null,
   "metadata": {},
   "outputs": [],
   "source": []
  },
  {
   "cell_type": "code",
   "execution_count": null,
   "metadata": {},
   "outputs": [],
   "source": []
  },
  {
   "cell_type": "code",
   "execution_count": null,
   "metadata": {},
   "outputs": [],
   "source": []
  },
  {
   "cell_type": "code",
   "execution_count": null,
   "metadata": {},
   "outputs": [],
   "source": []
  }
 ],
 "metadata": {
  "kernelspec": {
   "display_name": "base",
   "language": "python",
   "name": "python3"
  },
  "language_info": {
   "codemirror_mode": {
    "name": "ipython",
    "version": 3
   },
   "file_extension": ".py",
   "mimetype": "text/x-python",
   "name": "python",
   "nbconvert_exporter": "python",
   "pygments_lexer": "ipython3",
   "version": "3.9.12"
  },
  "orig_nbformat": 4
 },
 "nbformat": 4,
 "nbformat_minor": 2
}
