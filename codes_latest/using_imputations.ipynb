{
 "cells": [
  {
   "cell_type": "code",
   "execution_count": 24,
   "metadata": {},
   "outputs": [],
   "source": [
    "import pandas as pd\n",
    "import numpy as np\n",
    "import xgboost as xgb\n",
    "import lightgbm as lgb\n",
    "from sklearn.multioutput import MultiOutputClassifier\n",
    "from sklearn.multiclass import OneVsRestClassifier\n",
    "from sklearn.model_selection import GridSearchCV, StratifiedKFold\n",
    "from sklearn.metrics import make_scorer, f1_score"
   ]
  },
  {
   "cell_type": "code",
   "execution_count": 25,
   "metadata": {},
   "outputs": [
    {
     "name": "stderr",
     "output_type": "stream",
     "text": [
      "C:\\Users\\ADE17\\AppData\\Local\\Temp\\ipykernel_12648\\2619112913.py:1: DtypeWarning: Columns (14) have mixed types. Specify dtype option on import or set low_memory=False.\n",
      "  train_data = pd.read_csv('../data_new/train.csv')\n"
     ]
    }
   ],
   "source": [
    "train_data = pd.read_csv('../data_new/train.csv')\n",
    "test = pd.read_csv('../data_new/test.csv')"
   ]
  },
  {
   "cell_type": "code",
   "execution_count": 26,
   "metadata": {},
   "outputs": [],
   "source": [
    "target = train_data.iloc[:,-29:]\n",
    "target_cols = train_data.iloc[:,-29:].columns"
   ]
  },
  {
   "cell_type": "code",
   "execution_count": 28,
   "metadata": {},
   "outputs": [],
   "source": [
    "train_data.Blood_Month_sample = train_data.Blood_Month_sample.fillna(train_data.Blood_Month_sample.mean())\n",
    "train_data.Blood_Month_sample = train_data.Blood_Month_sample.astype('int64')\n",
    "# train_data.General_cofactors = train_data.General_cofactors.fillna(train_data.General_cofactors.mean())\n",
    "# train_data.General_cofactors = train_data.General_cofactors.astype('int64')"
   ]
  },
  {
   "cell_type": "code",
   "execution_count": 32,
   "metadata": {},
   "outputs": [
    {
     "data": {
      "text/plain": [
       "0                 2085\n",
       "10                 652\n",
       "1                   95\n",
       "5                   43\n",
       "6                   32\n",
       "7                   21\n",
       "4                   14\n",
       "3                    7\n",
       "6, 7                 5\n",
       "2                    4\n",
       "1, 3                 3\n",
       "1, 2                 2\n",
       "6,7                  2\n",
       "4, 7                 2\n",
       "1,3                  2\n",
       "1.5                  1\n",
       "6, 8                 1\n",
       "5, 6, 7, 10          1\n",
       "2, 12                1\n",
       "4, 6                 1\n",
       "7, 10                1\n",
       "6, 7, 8, 10          1\n",
       "4, 5, 6, 7, 10       1\n",
       "4, 5                 1\n",
       "1, 6                 1\n",
       "11                   1\n",
       "4, 6, 7, 11          1\n",
       "6, 7, 10             1\n",
       "4,6                  1\n",
       "1, 6, 7, 10          1\n",
       "12                   1\n",
       "6, 7                 1\n",
       "5, 6, 7              1\n",
       "4, 6, 7              1\n",
       "5, 7                 1\n",
       "Name: General_cofactors, dtype: int64"
      ]
     },
     "execution_count": 32,
     "metadata": {},
     "output_type": "execute_result"
    }
   ],
   "source": [
    "# train_data.General_ocofactors = train_data.General_cofactors.fillna(train_data.General_cofactors.mean())\n",
    "# train_data.General_cfactors = train_data.General_cofactors.astype('int64')\n",
    "train_data.General_cofactors.value_counts()"
   ]
  },
  {
   "cell_type": "code",
   "execution_count": 4,
   "metadata": {},
   "outputs": [],
   "source": [
    "train = train_data.drop(target, axis=1)"
   ]
  },
  {
   "cell_type": "code",
   "execution_count": 5,
   "metadata": {},
   "outputs": [],
   "source": [
    "def multival_onehot_enc(df, col_names):\n",
    "    for col_name in col_names:\n",
    "        print(col_name)\n",
    "        df[col_name] = df[col_name].str.replace('.', ',')\n",
    "\n",
    "        split_values = df[col_name].str.split(',').explode()\n",
    "        unique_values = split_values.unique()\n",
    "\n",
    "        for i, value in enumerate(unique_values):\n",
    "            df[f\"{col_name}_{i}\"] = 0\n",
    "            df[f\"{col_name}_{i}\"] = df[f\"{col_name}_{i}\"].astype(int)\n",
    "\n",
    "        for index, row in df.iterrows():\n",
    "            values = str(row[col_name]).split(',')\n",
    "            for value in values:\n",
    "                for i, unique_value in enumerate(unique_values):\n",
    "                    if value.strip() == unique_value:\n",
    "                        df.at[index, f\"{col_name}_{i}\"] = 1\n",
    "                        break\n",
    "        df.drop(col_name, axis=1, inplace= True)\n",
    "    \n",
    "    return df\n"
   ]
  },
  {
   "cell_type": "code",
   "execution_count": 6,
   "metadata": {},
   "outputs": [
    {
     "name": "stdout",
     "output_type": "stream",
     "text": [
      "Treatment_of_athsma\n"
     ]
    },
    {
     "name": "stderr",
     "output_type": "stream",
     "text": [
      "C:\\Users\\ADE17\\AppData\\Local\\Temp\\ipykernel_12648\\3692048208.py:4: FutureWarning: The default value of regex will change from True to False in a future version. In addition, single character regular expressions will *not* be treated as literal strings when regex=True.\n",
      "  df[col_name] = df[col_name].str.replace('.', ',')\n"
     ]
    },
    {
     "name": "stdout",
     "output_type": "stream",
     "text": [
      "General_cofactors\n"
     ]
    },
    {
     "name": "stderr",
     "output_type": "stream",
     "text": [
      "C:\\Users\\ADE17\\AppData\\Local\\Temp\\ipykernel_12648\\3692048208.py:4: FutureWarning: The default value of regex will change from True to False in a future version. In addition, single character regular expressions will *not* be treated as literal strings when regex=True.\n",
      "  df[col_name] = df[col_name].str.replace('.', ',')\n"
     ]
    },
    {
     "name": "stdout",
     "output_type": "stream",
     "text": [
      "Treatment_of_atopic_dematitis\n"
     ]
    },
    {
     "name": "stderr",
     "output_type": "stream",
     "text": [
      "C:\\Users\\ADE17\\AppData\\Local\\Temp\\ipykernel_12648\\3692048208.py:4: FutureWarning: The default value of regex will change from True to False in a future version. In addition, single character regular expressions will *not* be treated as literal strings when regex=True.\n",
      "  df[col_name] = df[col_name].str.replace('.', ',')\n"
     ]
    },
    {
     "name": "stdout",
     "output_type": "stream",
     "text": [
      "Age_of_onsets\n"
     ]
    },
    {
     "name": "stderr",
     "output_type": "stream",
     "text": [
      "C:\\Users\\ADE17\\AppData\\Local\\Temp\\ipykernel_12648\\3692048208.py:4: FutureWarning: The default value of regex will change from True to False in a future version. In addition, single character regular expressions will *not* be treated as literal strings when regex=True.\n",
      "  df[col_name] = df[col_name].str.replace('.', ',')\n"
     ]
    }
   ],
   "source": [
    "cols = ['Treatment_of_athsma', 'General_cofactors',\n",
    "        'Treatment_of_atopic_dematitis', 'Age_of_onsets']\n",
    "cols2 = ['French_Region', 'Chip_Type', \n",
    "        'Blood_Month_sample', 'Skin_Symptoms',\n",
    "        'Treatment_of_rhinitis']\n",
    "train.Treatment_of_rhinitis = train.Treatment_of_rhinitis.astype(str).str.split(pat='.', expand=True)[0]\n",
    "train = pd.get_dummies(train, columns=cols2)\n",
    "new_train = multival_onehot_enc(train, cols)"
   ]
  },
  {
   "cell_type": "code",
   "execution_count": 130,
   "metadata": {},
   "outputs": [],
   "source": [
    "# new_train"
   ]
  },
  {
   "cell_type": "code",
   "execution_count": 7,
   "metadata": {},
   "outputs": [],
   "source": [
    "df_num = new_train.select_dtypes(include=object)\n"
   ]
  },
  {
   "cell_type": "code",
   "execution_count": 8,
   "metadata": {},
   "outputs": [],
   "source": [
    "new_train = new_train.drop(df_num, axis=1)"
   ]
  },
  {
   "cell_type": "code",
   "execution_count": 9,
   "metadata": {},
   "outputs": [
    {
     "name": "stdout",
     "output_type": "stream",
     "text": [
      "Treatment_of_athsma\n",
      "General_cofactors\n",
      "Treatment_of_atopic_dematitis\n"
     ]
    },
    {
     "name": "stderr",
     "output_type": "stream",
     "text": [
      "C:\\Users\\ADE17\\AppData\\Local\\Temp\\ipykernel_12648\\3692048208.py:4: FutureWarning: The default value of regex will change from True to False in a future version. In addition, single character regular expressions will *not* be treated as literal strings when regex=True.\n",
      "  df[col_name] = df[col_name].str.replace('.', ',')\n",
      "C:\\Users\\ADE17\\AppData\\Local\\Temp\\ipykernel_12648\\3692048208.py:4: FutureWarning: The default value of regex will change from True to False in a future version. In addition, single character regular expressions will *not* be treated as literal strings when regex=True.\n",
      "  df[col_name] = df[col_name].str.replace('.', ',')\n",
      "C:\\Users\\ADE17\\AppData\\Local\\Temp\\ipykernel_12648\\3692048208.py:4: FutureWarning: The default value of regex will change from True to False in a future version. In addition, single character regular expressions will *not* be treated as literal strings when regex=True.\n",
      "  df[col_name] = df[col_name].str.replace('.', ',')\n"
     ]
    }
   ],
   "source": [
    "cols_test = ['Treatment_of_athsma', 'General_cofactors',\n",
    "        'Treatment_of_atopic_dematitis']\n",
    "cols2_test = ['French_Region', 'Chip_Type', \n",
    "        'Blood_Month_sample', 'Skin_Symptoms',\n",
    "        'Treatment_of_rhinitis', 'Age_of_onsets']\n",
    "test.Treatment_of_rhinitis = test.Treatment_of_rhinitis.astype(str).str.split(pat='.', expand=True)[0]\n",
    "test = pd.get_dummies(test, columns=cols2_test)\n",
    "new_test = multival_onehot_enc(test, cols_test)"
   ]
  },
  {
   "cell_type": "code",
   "execution_count": 10,
   "metadata": {},
   "outputs": [],
   "source": [
    "df_num_test = new_test.select_dtypes(include=object)\n"
   ]
  },
  {
   "cell_type": "code",
   "execution_count": 11,
   "metadata": {},
   "outputs": [],
   "source": [
    "new_test = new_test.drop(df_num_test, axis=1)"
   ]
  },
  {
   "cell_type": "code",
   "execution_count": 12,
   "metadata": {},
   "outputs": [],
   "source": [
    "new_test = new_test.drop('trustii_id', axis=1)"
   ]
  },
  {
   "cell_type": "code",
   "execution_count": 13,
   "metadata": {},
   "outputs": [
    {
     "data": {
      "text/plain": [
       "(586, 401)"
      ]
     },
     "execution_count": 13,
     "metadata": {},
     "output_type": "execute_result"
    }
   ],
   "source": [
    "new_test.shape"
   ]
  },
  {
   "cell_type": "code",
   "execution_count": 14,
   "metadata": {},
   "outputs": [
    {
     "data": {
      "text/plain": [
       "(2989, 412)"
      ]
     },
     "execution_count": 14,
     "metadata": {},
     "output_type": "execute_result"
    }
   ],
   "source": [
    "new_train.shape"
   ]
  },
  {
   "cell_type": "code",
   "execution_count": 15,
   "metadata": {},
   "outputs": [],
   "source": [
    "df1 = new_train\n",
    "df2 = new_test\n",
    "columns_df1 = set(df1.columns)\n",
    "columns_df2 = set(df2.columns)\n",
    "\n",
    "different_columns = list(columns_df1 - columns_df2)\n",
    "different_columns.extend(list(columns_df2 - columns_df1))"
   ]
  },
  {
   "cell_type": "code",
   "execution_count": 16,
   "metadata": {},
   "outputs": [
    {
     "data": {
      "text/plain": [
       "['Blood_Month_sample_9.0',\n",
       " 'General_cofactors_16',\n",
       " 'Blood_Month_sample_12.0',\n",
       " 'General_cofactors_18',\n",
       " 'French_Region_regionO',\n",
       " 'French_Region_regionN',\n",
       " 'General_cofactors_20',\n",
       " 'Blood_Month_sample_6.0',\n",
       " 'Blood_Month_sample_7.0',\n",
       " 'Blood_Month_sample_1.0',\n",
       " 'Blood_Month_sample_2.0',\n",
       " 'Age_of_onsets_8',\n",
       " 'Treatment_of_athsma_10',\n",
       " 'Blood_Month_sample_4.0',\n",
       " 'Blood_Month_sample_3.0',\n",
       " 'Blood_Month_sample_5.0',\n",
       " 'Blood_Month_sample_8.0',\n",
       " 'Blood_Month_sample_10.0',\n",
       " 'General_cofactors_19',\n",
       " 'Blood_Month_sample_11.0',\n",
       " 'Age_of_onsets_7',\n",
       " 'General_cofactors_17',\n",
       " 'Treatment_of_atopic_dematitis_8',\n",
       " 'Blood_Month_sample_10',\n",
       " 'Blood_Month_sample_9',\n",
       " 'Blood_Month_sample_1',\n",
       " 'Blood_Month_sample_4',\n",
       " 'Blood_Month_sample_7',\n",
       " 'Blood_Month_sample_2',\n",
       " 'Blood_Month_sample_6',\n",
       " 'Blood_Month_sample_8',\n",
       " 'Blood_Month_sample_5',\n",
       " 'Blood_Month_sample_12',\n",
       " 'Blood_Month_sample_3',\n",
       " 'Blood_Month_sample_11']"
      ]
     },
     "execution_count": 16,
     "metadata": {},
     "output_type": "execute_result"
    }
   ],
   "source": [
    "different_columns"
   ]
  },
  {
   "cell_type": "code",
   "execution_count": 132,
   "metadata": {},
   "outputs": [
    {
     "data": {
      "text/plain": [
       "6     68\n",
       "3     64\n",
       "1     60\n",
       "9     57\n",
       "2     49\n",
       "5     49\n",
       "12    49\n",
       "7     47\n",
       "4     40\n",
       "11    40\n",
       "10    38\n",
       "8     25\n",
       "Name: Blood_Month_sample, dtype: int64"
      ]
     },
     "execution_count": 132,
     "metadata": {},
     "output_type": "execute_result"
    }
   ],
   "source": [
    "test.Blood_Month_sample.value_counts()"
   ]
  },
  {
   "cell_type": "code",
   "execution_count": null,
   "metadata": {},
   "outputs": [],
   "source": [
    "# train_data.Blood_Month_sample = train_data.Blood_Month_sample.fillna(train_data.Blood_Month_sample.mean())\n",
    "# train_data.Blood_Month_sample = train_data.Blood_Month_sample.astype('int64')"
   ]
  },
  {
   "cell_type": "code",
   "execution_count": 21,
   "metadata": {},
   "outputs": [
    {
     "ename": "AttributeError",
     "evalue": "'Series' object has no attribute 'General_cofactors'",
     "output_type": "error",
     "traceback": [
      "\u001b[1;31m---------------------------------------------------------------------------\u001b[0m",
      "\u001b[1;31mAttributeError\u001b[0m                            Traceback (most recent call last)",
      "\u001b[1;32m~\\AppData\\Local\\Temp\\ipykernel_12648\\2611041328.py\u001b[0m in \u001b[0;36m?\u001b[1;34m()\u001b[0m\n\u001b[1;32m----> 2\u001b[1;33m \u001b[1;31m# train_data.General_cofactors = train_data.General_cofactors.fillna(train_data.General_cofactors.mean())\u001b[0m\u001b[1;33m\u001b[0m\u001b[1;33m\u001b[0m\u001b[0m\n\u001b[0m\u001b[0;32m      3\u001b[0m \u001b[0mtrain_data\u001b[0m \u001b[1;33m=\u001b[0m \u001b[0mtrain_data\u001b[0m\u001b[1;33m.\u001b[0m\u001b[0mGeneral_cofactors\u001b[0m\u001b[1;33m.\u001b[0m\u001b[0mastype\u001b[0m\u001b[1;33m(\u001b[0m\u001b[1;34m'int64'\u001b[0m\u001b[1;33m)\u001b[0m\u001b[1;33m\u001b[0m\u001b[1;33m\u001b[0m\u001b[0m\n",
      "\u001b[1;32m~\\AppData\\Roaming\\Python\\Python39\\site-packages\\pandas\\core\\generic.py\u001b[0m in \u001b[0;36m?\u001b[1;34m(self, name)\u001b[0m\n\u001b[0;32m   5898\u001b[0m             \u001b[1;32mand\u001b[0m \u001b[0mname\u001b[0m \u001b[1;32mnot\u001b[0m \u001b[1;32min\u001b[0m \u001b[0mself\u001b[0m\u001b[1;33m.\u001b[0m\u001b[0m_accessors\u001b[0m\u001b[1;33m\u001b[0m\u001b[1;33m\u001b[0m\u001b[0m\n\u001b[0;32m   5899\u001b[0m             \u001b[1;32mand\u001b[0m \u001b[0mself\u001b[0m\u001b[1;33m.\u001b[0m\u001b[0m_info_axis\u001b[0m\u001b[1;33m.\u001b[0m\u001b[0m_can_hold_identifiers_and_holds_name\u001b[0m\u001b[1;33m(\u001b[0m\u001b[0mname\u001b[0m\u001b[1;33m)\u001b[0m\u001b[1;33m\u001b[0m\u001b[1;33m\u001b[0m\u001b[0m\n\u001b[0;32m   5900\u001b[0m         ):\n\u001b[0;32m   5901\u001b[0m             \u001b[1;32mreturn\u001b[0m \u001b[0mself\u001b[0m\u001b[1;33m[\u001b[0m\u001b[0mname\u001b[0m\u001b[1;33m]\u001b[0m\u001b[1;33m\u001b[0m\u001b[1;33m\u001b[0m\u001b[0m\n\u001b[1;32m-> 5902\u001b[1;33m         \u001b[1;32mreturn\u001b[0m \u001b[0mobject\u001b[0m\u001b[1;33m.\u001b[0m\u001b[0m__getattribute__\u001b[0m\u001b[1;33m(\u001b[0m\u001b[0mself\u001b[0m\u001b[1;33m,\u001b[0m \u001b[0mname\u001b[0m\u001b[1;33m)\u001b[0m\u001b[1;33m\u001b[0m\u001b[1;33m\u001b[0m\u001b[0m\n\u001b[0m",
      "\u001b[1;31mAttributeError\u001b[0m: 'Series' object has no attribute 'General_cofactors'"
     ]
    }
   ],
   "source": [
    "# train_data.General_cofactors = train_data.General_cofactors.fillna(train_data.General_cofactors.mean())\n",
    "# train_data.General_cofactors = train_data.General_cofactors.astype('int64')"
   ]
  },
  {
   "cell_type": "code",
   "execution_count": 23,
   "metadata": {},
   "outputs": [
    {
     "data": {
      "text/plain": [
       "0        7\n",
       "1        5\n",
       "2        6\n",
       "3        9\n",
       "4       12\n",
       "        ..\n",
       "2984     3\n",
       "2985     1\n",
       "2986    12\n",
       "2987     4\n",
       "2988     7\n",
       "Name: Blood_Month_sample, Length: 2989, dtype: int64"
      ]
     },
     "execution_count": 23,
     "metadata": {},
     "output_type": "execute_result"
    }
   ],
   "source": [
    "train_data"
   ]
  },
  {
   "cell_type": "code",
   "execution_count": null,
   "metadata": {},
   "outputs": [],
   "source": []
  },
  {
   "cell_type": "code",
   "execution_count": null,
   "metadata": {},
   "outputs": [],
   "source": []
  },
  {
   "cell_type": "code",
   "execution_count": null,
   "metadata": {},
   "outputs": [],
   "source": []
  },
  {
   "cell_type": "code",
   "execution_count": null,
   "metadata": {},
   "outputs": [],
   "source": []
  },
  {
   "cell_type": "code",
   "execution_count": null,
   "metadata": {},
   "outputs": [],
   "source": []
  },
  {
   "cell_type": "code",
   "execution_count": null,
   "metadata": {},
   "outputs": [],
   "source": []
  },
  {
   "cell_type": "code",
   "execution_count": null,
   "metadata": {},
   "outputs": [],
   "source": []
  },
  {
   "cell_type": "code",
   "execution_count": null,
   "metadata": {},
   "outputs": [],
   "source": []
  },
  {
   "cell_type": "code",
   "execution_count": null,
   "metadata": {},
   "outputs": [],
   "source": []
  },
  {
   "cell_type": "code",
   "execution_count": null,
   "metadata": {},
   "outputs": [],
   "source": []
  },
  {
   "cell_type": "code",
   "execution_count": null,
   "metadata": {},
   "outputs": [],
   "source": []
  },
  {
   "cell_type": "code",
   "execution_count": null,
   "metadata": {},
   "outputs": [],
   "source": []
  },
  {
   "cell_type": "code",
   "execution_count": null,
   "metadata": {},
   "outputs": [],
   "source": []
  },
  {
   "cell_type": "code",
   "execution_count": null,
   "metadata": {},
   "outputs": [],
   "source": []
  },
  {
   "cell_type": "code",
   "execution_count": null,
   "metadata": {},
   "outputs": [],
   "source": []
  },
  {
   "cell_type": "code",
   "execution_count": null,
   "metadata": {},
   "outputs": [],
   "source": []
  },
  {
   "cell_type": "code",
   "execution_count": null,
   "metadata": {},
   "outputs": [],
   "source": []
  },
  {
   "cell_type": "code",
   "execution_count": null,
   "metadata": {},
   "outputs": [],
   "source": []
  },
  {
   "cell_type": "code",
   "execution_count": null,
   "metadata": {},
   "outputs": [],
   "source": []
  },
  {
   "cell_type": "code",
   "execution_count": null,
   "metadata": {},
   "outputs": [],
   "source": []
  }
 ],
 "metadata": {
  "kernelspec": {
   "display_name": "base",
   "language": "python",
   "name": "python3"
  },
  "language_info": {
   "codemirror_mode": {
    "name": "ipython",
    "version": 3
   },
   "file_extension": ".py",
   "mimetype": "text/x-python",
   "name": "python",
   "nbconvert_exporter": "python",
   "pygments_lexer": "ipython3",
   "version": "3.9.12"
  },
  "orig_nbformat": 4
 },
 "nbformat": 4,
 "nbformat_minor": 2
}
