{
 "cells": [
  {
   "cell_type": "code",
   "execution_count": 1,
   "metadata": {},
   "outputs": [],
   "source": [
    "import pandas as pd\n",
    "import numpy as np\n",
    "import xgboost as xgb\n",
    "import lightgbm as lgb\n",
    "from sklearn.multioutput import MultiOutputClassifier\n",
    "from sklearn.multiclass import OneVsRestClassifier\n",
    "from sklearn.model_selection import GridSearchCV, StratifiedKFold\n",
    "from sklearn.metrics import make_scorer, f1_score"
   ]
  },
  {
   "cell_type": "code",
   "execution_count": 39,
   "metadata": {},
   "outputs": [
    {
     "name": "stderr",
     "output_type": "stream",
     "text": [
      "C:\\Users\\ADE17\\AppData\\Local\\Temp\\ipykernel_9532\\2619112913.py:1: DtypeWarning: Columns (14) have mixed types. Specify dtype option on import or set low_memory=False.\n",
      "  train_data = pd.read_csv('../data_new/train.csv')\n"
     ]
    }
   ],
   "source": [
    "train_data = pd.read_csv('../data_new/train.csv')\n",
    "test = pd.read_csv('../data_new/test.csv')"
   ]
  },
  {
   "cell_type": "code",
   "execution_count": 38,
   "metadata": {},
   "outputs": [],
   "source": [
    "target = train_data.iloc[:,-29:]\n",
    "target_cols = train_data.iloc[:,-29:].columns"
   ]
  },
  {
   "cell_type": "code",
   "execution_count": 25,
   "metadata": {},
   "outputs": [],
   "source": [
    "train_data.Blood_Month_sample = train_data.Blood_Month_sample.fillna(train_data.Blood_Month_sample.mean())\n",
    "train_data.Blood_Month_sample = train_data.Blood_Month_sample.astype('int64')"
   ]
  },
  {
   "cell_type": "code",
   "execution_count": 43,
   "metadata": {},
   "outputs": [],
   "source": [
    "mask = train_data[target_cols].apply(lambda x: 9 not in x.values, axis=1)\n",
    "train = train_data[mask]"
   ]
  },
  {
   "cell_type": "code",
   "execution_count": 44,
   "metadata": {},
   "outputs": [],
   "source": [
    "new_target = train.iloc[:,-29:]"
   ]
  },
  {
   "cell_type": "code",
   "execution_count": 27,
   "metadata": {},
   "outputs": [],
   "source": [
    "train = train.drop(target, axis=1)"
   ]
  },
  {
   "cell_type": "code",
   "execution_count": 28,
   "metadata": {},
   "outputs": [],
   "source": [
    "def multival_onehot_enc(df, col_names):\n",
    "    for col_name in col_names:\n",
    "        print(col_name)\n",
    "        df[col_name] = df[col_name].str.replace('.', ',')\n",
    "\n",
    "        split_values = df[col_name].str.split(',').explode()\n",
    "        unique_values = split_values.unique()\n",
    "\n",
    "        for i, value in enumerate(unique_values):\n",
    "            df[f\"{col_name}_{i}\"] = 0\n",
    "            df[f\"{col_name}_{i}\"] = df[f\"{col_name}_{i}\"].astype(int)\n",
    "\n",
    "        for index, row in df.iterrows():\n",
    "            values = str(row[col_name]).split(',')\n",
    "            for value in values:\n",
    "                for i, unique_value in enumerate(unique_values):\n",
    "                    if value.strip() == unique_value:\n",
    "                        df.at[index, f\"{col_name}_{i}\"] = 1\n",
    "                        break\n",
    "        df.drop(col_name, axis=1, inplace= True)\n",
    "    \n",
    "    return df"
   ]
  },
  {
   "cell_type": "code",
   "execution_count": 29,
   "metadata": {},
   "outputs": [
    {
     "name": "stdout",
     "output_type": "stream",
     "text": [
      "Treatment_of_athsma\n",
      "General_cofactors\n"
     ]
    },
    {
     "name": "stderr",
     "output_type": "stream",
     "text": [
      "C:\\Users\\ADE17\\AppData\\Local\\Temp\\ipykernel_9532\\809910423.py:4: FutureWarning: The default value of regex will change from True to False in a future version. In addition, single character regular expressions will *not* be treated as literal strings when regex=True.\n",
      "  df[col_name] = df[col_name].str.replace('.', ',')\n",
      "C:\\Users\\ADE17\\AppData\\Local\\Temp\\ipykernel_9532\\809910423.py:4: FutureWarning: The default value of regex will change from True to False in a future version. In addition, single character regular expressions will *not* be treated as literal strings when regex=True.\n",
      "  df[col_name] = df[col_name].str.replace('.', ',')\n"
     ]
    },
    {
     "name": "stdout",
     "output_type": "stream",
     "text": [
      "Treatment_of_atopic_dematitis\n",
      "Age_of_onsets\n"
     ]
    },
    {
     "name": "stderr",
     "output_type": "stream",
     "text": [
      "C:\\Users\\ADE17\\AppData\\Local\\Temp\\ipykernel_9532\\809910423.py:4: FutureWarning: The default value of regex will change from True to False in a future version. In addition, single character regular expressions will *not* be treated as literal strings when regex=True.\n",
      "  df[col_name] = df[col_name].str.replace('.', ',')\n",
      "C:\\Users\\ADE17\\AppData\\Local\\Temp\\ipykernel_9532\\809910423.py:4: FutureWarning: The default value of regex will change from True to False in a future version. In addition, single character regular expressions will *not* be treated as literal strings when regex=True.\n",
      "  df[col_name] = df[col_name].str.replace('.', ',')\n"
     ]
    }
   ],
   "source": [
    "cols = ['Treatment_of_athsma', 'General_cofactors',\n",
    "        'Treatment_of_atopic_dematitis', 'Age_of_onsets']\n",
    "cols2 = ['French_Region', 'Chip_Type', \n",
    "        'Blood_Month_sample', 'Skin_Symptoms',\n",
    "        'Treatment_of_rhinitis']\n",
    "train.Treatment_of_rhinitis = train.Treatment_of_rhinitis.astype(str).str.split(pat='.', expand=True)[0]\n",
    "train = pd.get_dummies(train, columns=cols2)\n",
    "new_train = multival_onehot_enc(train, cols)"
   ]
  },
  {
   "cell_type": "code",
   "execution_count": 30,
   "metadata": {},
   "outputs": [],
   "source": [
    "df_num = new_train.select_dtypes(include=object)"
   ]
  },
  {
   "cell_type": "code",
   "execution_count": 31,
   "metadata": {},
   "outputs": [],
   "source": [
    "new_train = new_train.drop(df_num, axis=1)"
   ]
  },
  {
   "cell_type": "code",
   "execution_count": 12,
   "metadata": {},
   "outputs": [
    {
     "name": "stdout",
     "output_type": "stream",
     "text": [
      "Treatment_of_athsma\n",
      "General_cofactors\n",
      "Treatment_of_atopic_dematitis\n"
     ]
    },
    {
     "name": "stderr",
     "output_type": "stream",
     "text": [
      "C:\\Users\\ADE17\\AppData\\Local\\Temp\\ipykernel_9532\\707930443.py:4: FutureWarning: The default value of regex will change from True to False in a future version. In addition, single character regular expressions will *not* be treated as literal strings when regex=True.\n",
      "  df[col_name] = df[col_name].str.replace('.', ',')\n",
      "C:\\Users\\ADE17\\AppData\\Local\\Temp\\ipykernel_9532\\707930443.py:4: FutureWarning: The default value of regex will change from True to False in a future version. In addition, single character regular expressions will *not* be treated as literal strings when regex=True.\n",
      "  df[col_name] = df[col_name].str.replace('.', ',')\n",
      "C:\\Users\\ADE17\\AppData\\Local\\Temp\\ipykernel_9532\\707930443.py:4: FutureWarning: The default value of regex will change from True to False in a future version. In addition, single character regular expressions will *not* be treated as literal strings when regex=True.\n",
      "  df[col_name] = df[col_name].str.replace('.', ',')\n"
     ]
    }
   ],
   "source": [
    "cols_test = ['Treatment_of_athsma', 'General_cofactors',\n",
    "        'Treatment_of_atopic_dematitis']\n",
    "cols2_test = ['French_Region', 'Chip_Type', \n",
    "        'Blood_Month_sample', 'Skin_Symptoms',\n",
    "        'Treatment_of_rhinitis', 'Age_of_onsets']\n",
    "test.Treatment_of_rhinitis = test.Treatment_of_rhinitis.astype(str).str.split(pat='.', expand=True)[0]\n",
    "test_df = pd.get_dummies(test, columns=cols2_test)\n",
    "new_test = multival_onehot_enc(test_df, cols_test)"
   ]
  },
  {
   "cell_type": "code",
   "execution_count": 13,
   "metadata": {},
   "outputs": [],
   "source": [
    "df_num_test = new_test.select_dtypes(include=object)\n",
    "new_test = new_test.drop(df_num_test, axis=1)\n",
    "new_test = new_test.drop('trustii_id', axis=1)"
   ]
  },
  {
   "cell_type": "code",
   "execution_count": 14,
   "metadata": {},
   "outputs": [
    {
     "data": {
      "text/plain": [
       "(586, 401)"
      ]
     },
     "execution_count": 14,
     "metadata": {},
     "output_type": "execute_result"
    }
   ],
   "source": [
    "new_test.shape"
   ]
  },
  {
   "cell_type": "code",
   "execution_count": 32,
   "metadata": {},
   "outputs": [
    {
     "data": {
      "text/plain": [
       "(1356, 411)"
      ]
     },
     "execution_count": 32,
     "metadata": {},
     "output_type": "execute_result"
    }
   ],
   "source": [
    "new_train.shape"
   ]
  },
  {
   "cell_type": "code",
   "execution_count": 33,
   "metadata": {},
   "outputs": [],
   "source": [
    "df1 = new_train\n",
    "df2 = new_test\n",
    "columns_df1 = set(df1.columns)\n",
    "columns_df2 = set(df2.columns)\n",
    "\n",
    "different_columns = list(columns_df1 - columns_df2)\n",
    "different_columns.extend(list(columns_df2 - columns_df1))"
   ]
  },
  {
   "cell_type": "code",
   "execution_count": 34,
   "metadata": {},
   "outputs": [
    {
     "data": {
      "text/plain": [
       "['French_Region_regionO',\n",
       " 'General_cofactors_19',\n",
       " 'French_Region_regionN',\n",
       " 'Age_of_onsets_8',\n",
       " 'Treatment_of_atopic_dematitis_8',\n",
       " 'General_cofactors_20',\n",
       " 'General_cofactors_18',\n",
       " 'General_cofactors_17',\n",
       " 'Age_of_onsets_7',\n",
       " 'General_cofactors_16']"
      ]
     },
     "execution_count": 34,
     "metadata": {},
     "output_type": "execute_result"
    }
   ],
   "source": [
    "different_columns"
   ]
  },
  {
   "cell_type": "code",
   "execution_count": 35,
   "metadata": {},
   "outputs": [],
   "source": [
    "df1 = new_train\n",
    "df2 = new_test\n",
    "common_cols = set(df1.columns).intersection(df2.columns)\n",
    "X_updated = df1.reindex(columns=common_cols)\n",
    "test_updated = df2.reindex(columns=common_cols)"
   ]
  },
  {
   "cell_type": "code",
   "execution_count": 45,
   "metadata": {},
   "outputs": [
    {
     "name": "stdout",
     "output_type": "stream",
     "text": [
      "(1356, 401)\n",
      "(586, 401)\n",
      "(1356, 29)\n"
     ]
    }
   ],
   "source": [
    "print(X_updated.shape)\n",
    "print(test_updated.shape)\n",
    "print(new_target.shape)"
   ]
  },
  {
   "cell_type": "code",
   "execution_count": 46,
   "metadata": {},
   "outputs": [],
   "source": [
    "X_updated.to_csv(\"saved_csv/train_encoded_9s_dropped.csv\", index=False)\n",
    "test_updated.to_csv(\"saved_csv/test_encoded_9s_dropped.csv\", index=False)\n",
    "new_target.to_csv(\"saved_csv/target_9s_dropped.csv\", index=False)"
   ]
  },
  {
   "cell_type": "code",
   "execution_count": null,
   "metadata": {},
   "outputs": [],
   "source": []
  },
  {
   "cell_type": "code",
   "execution_count": null,
   "metadata": {},
   "outputs": [],
   "source": []
  },
  {
   "cell_type": "code",
   "execution_count": null,
   "metadata": {},
   "outputs": [],
   "source": []
  },
  {
   "cell_type": "code",
   "execution_count": null,
   "metadata": {},
   "outputs": [],
   "source": []
  },
  {
   "cell_type": "code",
   "execution_count": null,
   "metadata": {},
   "outputs": [],
   "source": []
  },
  {
   "cell_type": "code",
   "execution_count": null,
   "metadata": {},
   "outputs": [],
   "source": []
  },
  {
   "cell_type": "code",
   "execution_count": null,
   "metadata": {},
   "outputs": [],
   "source": []
  },
  {
   "cell_type": "code",
   "execution_count": null,
   "metadata": {},
   "outputs": [],
   "source": []
  },
  {
   "cell_type": "code",
   "execution_count": null,
   "metadata": {},
   "outputs": [],
   "source": []
  },
  {
   "cell_type": "code",
   "execution_count": null,
   "metadata": {},
   "outputs": [],
   "source": []
  },
  {
   "cell_type": "code",
   "execution_count": null,
   "metadata": {},
   "outputs": [],
   "source": []
  },
  {
   "cell_type": "code",
   "execution_count": null,
   "metadata": {},
   "outputs": [],
   "source": []
  },
  {
   "cell_type": "code",
   "execution_count": null,
   "metadata": {},
   "outputs": [],
   "source": []
  },
  {
   "cell_type": "code",
   "execution_count": null,
   "metadata": {},
   "outputs": [],
   "source": []
  },
  {
   "cell_type": "code",
   "execution_count": null,
   "metadata": {},
   "outputs": [],
   "source": []
  },
  {
   "cell_type": "code",
   "execution_count": null,
   "metadata": {},
   "outputs": [],
   "source": []
  },
  {
   "cell_type": "code",
   "execution_count": null,
   "metadata": {},
   "outputs": [],
   "source": []
  },
  {
   "cell_type": "code",
   "execution_count": null,
   "metadata": {},
   "outputs": [],
   "source": []
  },
  {
   "cell_type": "code",
   "execution_count": null,
   "metadata": {},
   "outputs": [],
   "source": []
  },
  {
   "cell_type": "code",
   "execution_count": null,
   "metadata": {},
   "outputs": [],
   "source": []
  },
  {
   "cell_type": "code",
   "execution_count": null,
   "metadata": {},
   "outputs": [],
   "source": []
  },
  {
   "cell_type": "code",
   "execution_count": null,
   "metadata": {},
   "outputs": [],
   "source": []
  },
  {
   "cell_type": "code",
   "execution_count": null,
   "metadata": {},
   "outputs": [],
   "source": []
  },
  {
   "cell_type": "code",
   "execution_count": null,
   "metadata": {},
   "outputs": [],
   "source": []
  }
 ],
 "metadata": {
  "kernelspec": {
   "display_name": "base",
   "language": "python",
   "name": "python3"
  },
  "language_info": {
   "codemirror_mode": {
    "name": "ipython",
    "version": 3
   },
   "file_extension": ".py",
   "mimetype": "text/x-python",
   "name": "python",
   "nbconvert_exporter": "python",
   "pygments_lexer": "ipython3",
   "version": "3.9.12"
  },
  "orig_nbformat": 4
 },
 "nbformat": 4,
 "nbformat_minor": 2
}
